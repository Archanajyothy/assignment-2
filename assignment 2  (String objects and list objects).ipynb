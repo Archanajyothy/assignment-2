{
 "cells": [
  {
   "cell_type": "code",
   "execution_count": 13,
   "id": "b56a63dd",
   "metadata": {},
   "outputs": [
    {
     "name": "stdout",
     "output_type": "stream",
     "text": [
      "\n",
      "\n",
      "\n",
      "\n",
      "* \n",
      "\n",
      "* * \n",
      "\n",
      "* * * \n",
      "\n",
      "* * * * \n",
      "\n",
      "* * * * * \n",
      "\n",
      "* * * * \n",
      "\n",
      "* * * \n",
      "\n",
      "* * \n",
      "\n",
      "* "
     ]
    }
   ],
   "source": [
    "#Question no.:- 1\n",
    "for i in range(6) :\n",
    "    print(\"\\n\")\n",
    "    for j in range(i) :\n",
    "        print(\"*\",end =\" \")\n",
    "for i in range(4,0,-1) :\n",
    "    print(\"\\n\")\n",
    "    for j in range(i) :\n",
    "        print(\"*\",end =\" \")"
   ]
  },
  {
   "cell_type": "code",
   "execution_count": 35,
   "id": "ba2c1b69",
   "metadata": {
    "scrolled": false
   },
   "outputs": [
    {
     "name": "stdout",
     "output_type": "stream",
     "text": [
      "Enter a string for reversing\n",
      "ineuron\n",
      "norueni"
     ]
    }
   ],
   "source": [
    "#Question number 2\n",
    "s=input(\"Enter a string for reversing\\n\")\n",
    "for i in range(len(s)-1,-1,-1) :\n",
    "    print(str(s[i]),end = \"\")"
   ]
  },
  {
   "cell_type": "code",
   "execution_count": null,
   "id": "e3e3ec8d",
   "metadata": {},
   "outputs": [],
   "source": []
  }
 ],
 "metadata": {
  "kernelspec": {
   "display_name": "Python 3",
   "language": "python",
   "name": "python3"
  },
  "language_info": {
   "codemirror_mode": {
    "name": "ipython",
    "version": 3
   },
   "file_extension": ".py",
   "mimetype": "text/x-python",
   "name": "python",
   "nbconvert_exporter": "python",
   "pygments_lexer": "ipython3",
   "version": "3.8.8"
  }
 },
 "nbformat": 4,
 "nbformat_minor": 5
}
